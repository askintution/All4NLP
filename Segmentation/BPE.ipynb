{
 "cells": [
  {
   "cell_type": "code",
   "execution_count": 1,
   "metadata": {},
   "outputs": [],
   "source": [
    "import re, collections"
   ]
  },
  {
   "cell_type": "code",
   "execution_count": 2,
   "metadata": {},
   "outputs": [],
   "source": [
    "def get_stats(vocab):\n",
    "    pairs = collections.defaultdict(int)\n",
    "    for word, freq in vocab.items():\n",
    "        symbols = word.split()\n",
    "        for i in range(len(symbols)-1):\n",
    "            pairs[symbols[i], symbols[i+1]] += freq\n",
    "    return pairs"
   ]
  },
  {
   "cell_type": "code",
   "execution_count": 3,
   "metadata": {},
   "outputs": [],
   "source": [
    "def merge_vocab(pair, v_in):\n",
    "    v_out = {}\n",
    "    bigram = re.escape(' '.join(pair))\n",
    "    # 后向否定，前向否定\n",
    "    # bigram 后面有非空格，前面有非空格时不匹配\n",
    "    p = re.compile(r'(?<!\\S)' + bigram + r'(?!\\S)')\n",
    "    for word in v_in:\n",
    "        w_out = p.sub(''.join(pair), word)\n",
    "        v_out[w_out]  = v_in[word]\n",
    "    return v_out"
   ]
  },
  {
   "cell_type": "code",
   "execution_count": 4,
   "metadata": {},
   "outputs": [
    {
     "name": "stdout",
     "output_type": "stream",
     "text": [
      "====================================================================================================\n",
      "('e', 'r')\n",
      "{'l o w </w>': 5, 'l o w e s t </w>': 2, 'n e w er </w>': 6, 'w i d er </w>': 3, 'n e w </w>': 2}\n",
      "====================================================================================================\n",
      "('er', '</w>')\n",
      "{'l o w </w>': 5, 'l o w e s t </w>': 2, 'n e w er</w>': 6, 'w i d er</w>': 3, 'n e w </w>': 2}\n",
      "====================================================================================================\n",
      "('n', 'e')\n",
      "{'l o w </w>': 5, 'l o w e s t </w>': 2, 'ne w er</w>': 6, 'w i d er</w>': 3, 'ne w </w>': 2}\n",
      "====================================================================================================\n",
      "('ne', 'w')\n",
      "{'l o w </w>': 5, 'l o w e s t </w>': 2, 'new er</w>': 6, 'w i d er</w>': 3, 'new </w>': 2}\n",
      "====================================================================================================\n",
      "('l', 'o')\n",
      "{'lo w </w>': 5, 'lo w e s t </w>': 2, 'new er</w>': 6, 'w i d er</w>': 3, 'new </w>': 2}\n",
      "====================================================================================================\n",
      "('lo', 'w')\n",
      "{'low </w>': 5, 'low e s t </w>': 2, 'new er</w>': 6, 'w i d er</w>': 3, 'new </w>': 2}\n",
      "====================================================================================================\n",
      "('new', 'er</w>')\n",
      "{'low </w>': 5, 'low e s t </w>': 2, 'newer</w>': 6, 'w i d er</w>': 3, 'new </w>': 2}\n",
      "====================================================================================================\n",
      "('low', '</w>')\n",
      "{'low</w>': 5, 'low e s t </w>': 2, 'newer</w>': 6, 'w i d er</w>': 3, 'new </w>': 2}\n"
     ]
    }
   ],
   "source": [
    "vocab = {\n",
    "    'l o w </w>': 5,\n",
    "    'l o w e s t </w>': 2,\n",
    "    'n e w e r </w>': 6,\n",
    "    'w i d e r </w>': 3,\n",
    "    'n e w </w>':2\n",
    "}\n",
    "num_merges = 8\n",
    "for i in range(num_merges):\n",
    "    pairs = get_stats(vocab)\n",
    "    best = max(pairs, key=pairs.get)\n",
    "    vocab = merge_vocab(best, vocab)\n",
    "    print(\"=\"*100)\n",
    "    print(best)\n",
    "    print(vocab)"
   ]
  },
  {
   "cell_type": "code",
   "execution_count": null,
   "metadata": {},
   "outputs": [],
   "source": []
  }
 ],
 "metadata": {
  "kernelspec": {
   "display_name": "Python 3",
   "language": "python",
   "name": "python3"
  },
  "language_info": {
   "codemirror_mode": {
    "name": "ipython",
    "version": 3
   },
   "file_extension": ".py",
   "mimetype": "text/x-python",
   "name": "python",
   "nbconvert_exporter": "python",
   "pygments_lexer": "ipython3",
   "version": "3.7.4"
  },
  "latex_envs": {
   "LaTeX_envs_menu_present": true,
   "autoclose": false,
   "autocomplete": true,
   "bibliofile": "biblio.bib",
   "cite_by": "apalike",
   "current_citInitial": 1,
   "eqLabelWithNumbers": true,
   "eqNumInitial": 1,
   "hotkeys": {
    "equation": "Ctrl-E",
    "itemize": "Ctrl-I"
   },
   "labels_anchors": false,
   "latex_user_defs": false,
   "report_style_numbering": false,
   "user_envs_cfg": false
  },
  "toc": {
   "base_numbering": 1,
   "nav_menu": {},
   "number_sections": true,
   "sideBar": true,
   "skip_h1_title": false,
   "title_cell": "Table of Contents",
   "title_sidebar": "Contents",
   "toc_cell": false,
   "toc_position": {},
   "toc_section_display": true,
   "toc_window_display": false
  }
 },
 "nbformat": 4,
 "nbformat_minor": 2
}
